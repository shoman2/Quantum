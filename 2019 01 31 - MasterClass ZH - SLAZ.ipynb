{
 "cells": [
  {
   "cell_type": "markdown",
   "metadata": {},
   "source": [
    "# Part 1\n",
    "\n",
    "### Basics of Qiskit"
   ]
  },
  {
   "cell_type": "markdown",
   "metadata": {},
   "source": [
    "### Two stages: Build and Execute\n"
   ]
  },
  {
   "cell_type": "code",
   "execution_count": null,
   "metadata": {},
   "outputs": [],
   "source": [
    "# Build\n",
    "\n",
    "\n",
    "# Execute\n",
    "\n",
    "\n",
    "# When you run a program, a job object is made that has the following two methods: \n",
    "# job.status() and job.result() which return the status of the job and a result object respectively.\n"
   ]
  },
  {
   "cell_type": "markdown",
   "metadata": {},
   "source": [
    "### General algorithm flow\n",
    "Quantum part:\n",
    "1. Initialization to 0\n",
    "2. Apply H\n",
    "3. Run subsequent one- and two-qubit gates\n",
    "4. Measurement\n",
    "\n",
    "Classical part:\n",
    "- postprocessing\n",
    "- confirm the answer is correct"
   ]
  },
  {
   "cell_type": "markdown",
   "metadata": {},
   "source": [
    "### Import the libraries"
   ]
  },
  {
   "cell_type": "code",
   "execution_count": 1,
   "metadata": {},
   "outputs": [
    {
     "name": "stderr",
     "output_type": "stream",
     "text": [
      "/anaconda3/envs/Qiskitenv/lib/python3.7/site-packages/marshmallow/schema.py:364: ChangedInMarshmallow3Warning: strict=False is not recommended. In marshmallow 3.0, schemas will always be strict. See https://marshmallow.readthedocs.io/en/latest/upgrading.html#schemas-are-always-strict\n",
      "  ChangedInMarshmallow3Warning\n"
     ]
    }
   ],
   "source": [
    "import numpy as np\n",
    "from qiskit import QuantumRegister, QuantumCircuit, ClassicalRegister, BasicAer\n",
    "from qiskit import execute\n",
    "from qiskit.tools.visualization import plot_histogram\n",
    "\n",
    "qasm_sim = BasicAer.get_backend('qasm_simulator')"
   ]
  },
  {
   "cell_type": "markdown",
   "metadata": {},
   "source": [
    "### Backends\n",
    "\n",
    "Quantum algorithms can be started on a real quantum computer or on a local or remote simulator.  \n",
    "Use Qiskit IBMQ class to obtain the list of available backends.  \n",
    "  \n",
    "Note: Your Q account must be loaded to obtain the data"
   ]
  },
  {
   "cell_type": "code",
   "execution_count": 2,
   "metadata": {},
   "outputs": [
    {
     "data": {
      "text/plain": [
       "[<IBMQBackend('ibmqx4') from IBMQ()>,\n",
       " <IBMQBackend('ibmq_16_melbourne') from IBMQ()>,\n",
       " <IBMQBackend('ibmq_qasm_simulator') from IBMQ()>]"
      ]
     },
     "execution_count": 2,
     "metadata": {},
     "output_type": "execute_result"
    }
   ],
   "source": [
    "from qiskit import IBMQ\n",
    "IBMQ.load_accounts()\n",
    "IBMQ.backends()"
   ]
  },
  {
   "cell_type": "code",
   "execution_count": 3,
   "metadata": {},
   "outputs": [
    {
     "name": "stderr",
     "output_type": "stream",
     "text": [
      "/anaconda3/envs/Qiskitenv/lib/python3.7/site-packages/marshmallow/schema.py:364: ChangedInMarshmallow3Warning: strict=False is not recommended. In marshmallow 3.0, schemas will always be strict. See https://marshmallow.readthedocs.io/en/latest/upgrading.html#schemas-are-always-strict\n",
      "  ChangedInMarshmallow3Warning\n"
     ]
    },
    {
     "name": "stdout",
     "output_type": "stream",
     "text": [
      "ibmq_16_melbourne            ibmqx4\n",
      "-----------------            ------\n",
      "Num. Qubits:  14             Num. Qubits:  5\n",
      "Pending Jobs: 70             Pending Jobs: 5\n",
      "Least busy:   False          Least busy:   True\n",
      "Operational:  True           Operational:  True\n",
      "Avg. T1:      56.2           Avg. T1:      48.0\n",
      "Avg. T2:      70.7           Avg. T2:      25.4\n",
      "\n",
      "\n",
      "\n"
     ]
    }
   ],
   "source": [
    "from qiskit.tools.monitor import backend_monitor,backend_overview\n",
    "backend_overview()"
   ]
  },
  {
   "cell_type": "code",
   "execution_count": 4,
   "metadata": {},
   "outputs": [
    {
     "name": "stdout",
     "output_type": "stream",
     "text": [
      "ibmq_16_melbourne\n",
      "=================\n",
      "Configuration\n",
      "-------------\n",
      "    n_qubits: 14\n",
      "    operational: True\n",
      "    status_msg: calibrating\n",
      "    pending_jobs: 70\n",
      "    basis_gates: ['u1', 'u2', 'u3', 'cx', 'id']\n",
      "    local: False\n",
      "    simulator: False\n",
      "    max_experiments: 75\n",
      "    online_date: 2018-11-06T05:00:00+00:00\n",
      "    credits_required: True\n",
      "    sample_name: albatross\n",
      "    backend_name: ibmq_16_melbourne\n",
      "    url: None\n",
      "    allow_q_object: True\n",
      "    open_pulse: False\n",
      "    conditional: False\n",
      "    n_registers: 1\n",
      "    memory: False\n",
      "    max_shots: 8192\n",
      "    coupling_map: [[1, 0], [1, 2], [2, 3], [4, 3], [4, 10], [5, 4], [5, 6], [5, 9], [6, 8], [7, 8], [9, 8], [9, 10], [11, 3], [11, 10], [11, 12], [12, 2], [13, 1], [13, 12]]\n",
      "    description: 14 qubit device\n",
      "    backend_version: 1.0.0\n",
      "\n",
      "Qubits [Name / Freq / T1 / T2 / U1 err / U2 err / U3 err / Readout err]\n",
      "-----------------------------------------------------------------------\n",
      "    Q0 / 5.10008 GHz / 67.86304 µs / 21.46336 µs / 0.0 / 0.00156 / 0.00312 / 0.0236\n",
      "    Q1 / 5.23865 GHz / 52.17751 µs / 73.593 µs / 0.0 / 0.00842 / 0.01684 / 0.0861\n",
      "    Q2 / 5.03299 GHz / 72.27578 µs / 110.6493 µs / 0.0 / 0.00545 / 0.0109 / 0.0404\n",
      "    Q3 / 4.89617 GHz / 69.20889 µs / 78.45189 µs / 0.0 / 0.00122 / 0.00243 / 0.2287\n",
      "    Q4 / 5.02723 GHz / 64.49457 µs / 38.2541 µs / 0.0 / 0.00233 / 0.00466 / 0.0266\n",
      "    Q5 / 5.06715 GHz / 23.31704 µs / 51.37434 µs / 0.0 / 0.00266 / 0.00533 / 0.0478\n",
      "    Q6 / 4.92381 GHz / 68.63491 µs / 46.79412 µs / 0.0 / 0.0017 / 0.0034 / 0.0869\n",
      "    Q7 / 4.97452 GHz / 43.28481 µs / 96.48592 µs / 0.0 / 0.00153 / 0.00307 / 0.0775\n",
      "    Q8 / 4.73978 GHz / 61.80093 µs / 53.04309 µs / 0.0 / 0.00185 / 0.00369 / 0.0475\n",
      "    Q9 / 4.96338 GHz / 39.26273 µs / 88.75176 µs / 0.0 / 0.00558 / 0.01116 / 0.0995\n",
      "    Q10 / 4.94505 GHz / 64.28468 µs / 76.11386 µs / 0.0 / 0.00164 / 0.00328 / 0.0523\n",
      "    Q11 / 5.00528 GHz / 63.19062 µs / 85.50945 µs / 0.0 / 0.00181 / 0.00362 / 0.1135\n",
      "    Q12 / 4.76015 GHz / 69.13648 µs / 121.30925 µs / 0.0 / 0.00288 / 0.00575 / 0.0391\n",
      "    Q13 / 4.96847 GHz / 27.67902 µs / 47.56032 µs / 0.0 / 0.00532 / 0.01065 / 0.0457\n",
      "\n",
      "Multi-Qubit Gates [Name / Type / Gate Error]\n",
      "--------------------------------------------\n",
      "    CX1_0 / cx / 0.04751\n",
      "    CX1_2 / cx / 0.15782\n",
      "    CX2_3 / cx / 0.03921\n",
      "    CX4_3 / cx / 0.04747\n",
      "    CX4_10 / cx / 0.20997\n",
      "    CX5_4 / cx / 0.05815\n",
      "    CX5_6 / cx / 0.07228\n",
      "    CX5_9 / cx / 0.059\n",
      "    CX6_8 / cx / 0.0337\n",
      "    CX7_8 / cx / 0.02903\n",
      "    CX9_8 / cx / 0.06336\n",
      "    CX9_10 / cx / 0.04623\n",
      "    CX11_3 / cx / 0.06041\n",
      "    CX11_10 / cx / 0.19236\n",
      "    CX11_12 / cx / 0.10037\n",
      "    CX12_2 / cx / 0.06286\n",
      "    CX13_1 / cx / 0.15231\n",
      "    CX13_12 / cx / 0.03544\n"
     ]
    }
   ],
   "source": [
    "backend = IBMQ.get_backend('ibmq_16_melbourne')\n",
    "backend_monitor(backend)"
   ]
  },
  {
   "cell_type": "code",
   "execution_count": 5,
   "metadata": {},
   "outputs": [
    {
     "data": {
      "text/plain": [
       "BackendStatus(backend_name='ibmq_16_melbourne', backend_version='1.0.0', operational=True, pending_jobs=70, status_msg='calibrating')"
      ]
     },
     "execution_count": 5,
     "metadata": {},
     "output_type": "execute_result"
    }
   ],
   "source": [
    "backend.status()"
   ]
  },
  {
   "cell_type": "markdown",
   "metadata": {},
   "source": [
    "### Concept of registries\n",
    "A circuit can have several quantum registers and several classical registers. \n",
    "Every register needs to have a name and the number of the elements (Qbits for quantum register or bits for classical registers). "
   ]
  },
  {
   "cell_type": "code",
   "execution_count": 7,
   "metadata": {},
   "outputs": [
    {
     "data": {
      "text/html": [
       "<pre style=\"word-wrap: normal;white-space: pre;line-height: 15px;\">         \n",
       "q0_0: |0>\n",
       "         \n",
       "q0_1: |0>\n",
       "         \n",
       "q0_2: |0>\n",
       "         \n",
       "q1_0: |0>\n",
       "         \n",
       "q1_1: |0>\n",
       "         </pre>"
      ],
      "text/plain": [
       "<qiskit.tools.visualization._text.TextDrawing at 0x11b5e2438>"
      ]
     },
     "execution_count": 7,
     "metadata": {},
     "output_type": "execute_result"
    }
   ],
   "source": [
    "q0 = QuantumRegister(3, 'q0')\n",
    "q1 = QuantumRegister(2, 'q1')\n",
    "qc = QuantumCircuit(q0,q1)\n",
    "\n",
    "qc.draw()"
   ]
  },
  {
   "cell_type": "markdown",
   "metadata": {},
   "source": [
    "### Let's apply X, Z, Y and H gates"
   ]
  },
  {
   "cell_type": "code",
   "execution_count": 8,
   "metadata": {},
   "outputs": [
    {
     "data": {
      "image/png": "[encoded data removed]",
      "text/plain": [
       "<Figure size 301x319.06 with 1 Axes>"
      ]
     },
     "execution_count": 8,
     "metadata": {},
     "output_type": "execute_result"
    }
   ],
   "source": [
    "qc.x(q0[0])\n",
    "qc.y(q0[1])\n",
    "qc.z(q0[2])\n",
    "\n",
    "qc.h(q1[0])\n",
    "qc.x(q1[1])\n",
    "qc.h(q1[1])\n",
    "\n",
    "qc.draw(output = 'mpl')"
   ]
  },
  {
   "cell_type": "markdown",
   "metadata": {},
   "source": [
    "### Let's measure the qubits"
   ]
  },
  {
   "cell_type": "code",
   "execution_count": 9,
   "metadata": {},
   "outputs": [
    {
     "data": {
      "text/html": [
       "<pre style=\"word-wrap: normal;white-space: pre;line-height: 15px;\">                                              ┌───┐┌─┐\n",
       "q0_0: |0>─────────────────────────────────────┤ X ├┤M├\n",
       "                                      ┌───┐┌─┐└───┘└╥┘\n",
       "q0_1: |0>─────────────────────────────┤ Y ├┤M├──────╫─\n",
       "                              ┌───┐┌─┐└───┘└╥┘      ║ \n",
       "q0_2: |0>─────────────────────┤ Z ├┤M├──────╫───────╫─\n",
       "                      ┌───┐┌─┐└───┘└╥┘      ║       ║ \n",
       "q1_0: |0>─────────────┤ H ├┤M├──────╫───────╫───────╫─\n",
       "         ┌───┐┌───┐┌─┐└───┘└╥┘      ║       ║       ║ \n",
       "q1_1: |0>┤ X ├┤ H ├┤M├──────╫───────╫───────╫───────╫─\n",
       "         └───┘└───┘└╥┘      ║       ║       ║       ║ \n",
       "  c_0: 0 ═══════════╬═══════╬═══════╬═══════╬═══════╩═\n",
       "                    ║       ║       ║       ║         \n",
       "  c_1: 0 ═══════════╬═══════╬═══════╬═══════╩═════════\n",
       "                    ║       ║       ║                 \n",
       "  c_2: 0 ═══════════╬═══════╬═══════╩═════════════════\n",
       "                    ║       ║                         \n",
       "  c_3: 0 ═══════════╬═══════╩═════════════════════════\n",
       "                    ║                                 \n",
       "  c_4: 0 ═══════════╩═════════════════════════════════\n",
       "                                                      </pre>"
      ],
      "text/plain": [
       "<qiskit.tools.visualization._text.TextDrawing at 0x11df76c18>"
      ]
     },
     "execution_count": 9,
     "metadata": {},
     "output_type": "execute_result"
    }
   ],
   "source": [
    "c=ClassicalRegister(5,'c')\n",
    "qc.add_register(c)\n",
    "\n",
    "qc.measure(q0[0],c[0])\n",
    "qc.measure(q0[1],c[1])\n",
    "qc.measure(q0[2],c[2])\n",
    "qc.measure(q1[0],c[3])\n",
    "qc.measure(q1[1],c[4])\n",
    "\n",
    "qc.draw()"
   ]
  },
  {
   "cell_type": "code",
   "execution_count": 10,
   "metadata": {},
   "outputs": [
    {
     "name": "stdout",
     "output_type": "stream",
     "text": [
      "JobStatus.RUNNING\n",
      "JobStatus.RUNNING\n",
      "{'11011': 262, '01011': 240, '10011': 228, '00011': 270}\n",
      "JobStatus.DONE\n"
     ]
    },
    {
     "data": {
      "image/png": "[encoded data removed]",
      "text/plain": [
       "<Figure size 504x360 with 1 Axes>"
      ]
     },
     "execution_count": 10,
     "metadata": {},
     "output_type": "execute_result"
    }
   ],
   "source": [
    "job = execute(qc, qasm_sim, shots=1000)\n",
    "\n",
    "print(job.status())\n",
    "print(job.status())\n",
    "\n",
    "results = job.result().get_counts()\n",
    "print(results)\n",
    "print(job.status())\n",
    "\n",
    "job2 = execute(qc, qasm_sim, shots=1000)\n",
    "results2 = job2.result().get_counts()\n",
    "\n",
    "plot_histogram([results,results2])"
   ]
  },
  {
   "cell_type": "markdown",
   "metadata": {},
   "source": [
    "### Let's create another circuit and put the qubits in entanglement"
   ]
  },
  {
   "cell_type": "code",
   "execution_count": 11,
   "metadata": {},
   "outputs": [
    {
     "data": {
      "image/png": "[encoded data removed]",
      "text/plain": [
       "<Figure size 421.4x258.86 with 1 Axes>"
      ]
     },
     "execution_count": 11,
     "metadata": {},
     "output_type": "execute_result"
    }
   ],
   "source": [
    "q = QuantumRegister(2, 'q')\n",
    "c = ClassicalRegister(2, 'c')\n",
    "qc = QuantumCircuit(q, c)\n",
    "\n",
    "qc.h(q[0])\n",
    "qc.cx(q[0],q[1])\n",
    "\n",
    "qc.measure(q[0],c[0])\n",
    "qc.measure(q[1],c[1])\n",
    "\n",
    "qc.draw(output = 'mpl')"
   ]
  },
  {
   "cell_type": "markdown",
   "metadata": {},
   "source": [
    "#### This is the first Bell state   \n",
    "  \n",
    "\\$\n",
    "\\frac{1}{\\sqrt2}(|00⟩+|11⟩)\n",
    "\\$"
   ]
  },
  {
   "cell_type": "code",
   "execution_count": 12,
   "metadata": {},
   "outputs": [
    {
     "name": "stdout",
     "output_type": "stream",
     "text": [
      "{'00': 496, '11': 504}\n"
     ]
    },
    {
     "data": {
      "image/png": "[encoded data removed]",
      "text/plain": [
       "<Figure size 504x360 with 1 Axes>"
      ]
     },
     "execution_count": 12,
     "metadata": {},
     "output_type": "execute_result"
    }
   ],
   "source": [
    "job = execute(qc, qasm_sim, shots=1000)\n",
    "\n",
    "results = job.result().get_counts()\n",
    "print(results)\n",
    "\n",
    "plot_histogram(results)"
   ]
  },
  {
   "cell_type": "code",
   "execution_count": 13,
   "metadata": {},
   "outputs": [
    {
     "data": {
      "image/png": "[encoded data removed]",
      "text/plain": [
       "<Figure size 481.6x258.86 with 1 Axes>"
      ]
     },
     "execution_count": 13,
     "metadata": {},
     "output_type": "execute_result"
    }
   ],
   "source": [
    "q = QuantumRegister(2, 'q')\n",
    "c = ClassicalRegister(2, 'c')\n",
    "qc = QuantumCircuit(q,c)\n",
    "\n",
    "qc.h(q[0])\n",
    "qc.cx(q[0],q[1])\n",
    "qc.z(q[0])\n",
    "\n",
    "qc.measure(q[0],c[0])\n",
    "qc.measure(q[1],c[1])\n",
    "\n",
    "qc.draw(output = 'mpl')"
   ]
  },
  {
   "cell_type": "markdown",
   "metadata": {},
   "source": [
    "#### This is the second Bell state   \n",
    "  \n",
    "\\$\n",
    "\\frac{1}{\\sqrt2}(|00⟩-|11⟩)\n",
    "\\$"
   ]
  },
  {
   "cell_type": "code",
   "execution_count": 14,
   "metadata": {},
   "outputs": [
    {
     "name": "stdout",
     "output_type": "stream",
     "text": [
      "{'00': 515, '11': 485}\n"
     ]
    },
    {
     "data": {
      "image/png": "[encoded data removed]",
      "text/plain": [
       "<Figure size 504x360 with 1 Axes>"
      ]
     },
     "execution_count": 14,
     "metadata": {},
     "output_type": "execute_result"
    }
   ],
   "source": [
    "job = execute(qc, qasm_sim, shots=1000)\n",
    "results = job.result().get_counts()\n",
    "print(results)\n",
    "\n",
    "plot_histogram(results)"
   ]
  },
  {
   "cell_type": "code",
   "execution_count": 15,
   "metadata": {},
   "outputs": [
    {
     "data": {
      "image/png": "[encoded data removed]",
      "text/plain": [
       "<Figure size 481.6x258.86 with 1 Axes>"
      ]
     },
     "execution_count": 15,
     "metadata": {},
     "output_type": "execute_result"
    }
   ],
   "source": [
    "q = QuantumRegister(2, 'q')\n",
    "c = ClassicalRegister(2, 'c')\n",
    "qc = QuantumCircuit(q,c)\n",
    "\n",
    "qc.h(q[0])\n",
    "qc.cx(q[0],q[1])\n",
    "qc.x(q[1])\n",
    "\n",
    "qc.measure(q[0],c[0])\n",
    "qc.measure(q[1],c[1])\n",
    "\n",
    "qc.draw(output='mpl')"
   ]
  },
  {
   "cell_type": "markdown",
   "metadata": {},
   "source": [
    "#### This is the third Bell state   \n",
    "  \n",
    "\\$\n",
    "\\frac{1}{\\sqrt2}(|01⟩+|10⟩)\n",
    "\\$"
   ]
  },
  {
   "cell_type": "code",
   "execution_count": 16,
   "metadata": {},
   "outputs": [
    {
     "name": "stdout",
     "output_type": "stream",
     "text": [
      "{'10': 487, '01': 513}\n"
     ]
    },
    {
     "data": {
      "image/png": "[encoded data removed]",
      "text/plain": [
       "<Figure size 504x360 with 1 Axes>"
      ]
     },
     "execution_count": 16,
     "metadata": {},
     "output_type": "execute_result"
    }
   ],
   "source": [
    "job = execute(qc, qasm_sim, shots=1000)\n",
    "results = job.result().get_counts()\n",
    "print(results)\n",
    "\n",
    "plot_histogram(results)"
   ]
  },
  {
   "cell_type": "code",
   "execution_count": 20,
   "metadata": {},
   "outputs": [
    {
     "data": {
      "image/png": "[encoded data removed]",
      "text/plain": [
       "<Figure size 541.8x258.86 with 1 Axes>"
      ]
     },
     "execution_count": 20,
     "metadata": {},
     "output_type": "execute_result"
    }
   ],
   "source": [
    "q = QuantumRegister(2, 'q')\n",
    "c = ClassicalRegister(2, 'c')\n",
    "qc = QuantumCircuit(q, c)\n",
    "\n",
    "qc.h(q[0])\n",
    "qc.cx(q[0],q[1])\n",
    "qc.z(q[0])\n",
    "qc.x(q[1])\n",
    "\n",
    "qc.measure(q[0],c[0])\n",
    "qc.measure(q[1],c[1])\n",
    "\n",
    "qc.draw(output = 'mpl')"
   ]
  },
  {
   "cell_type": "markdown",
   "metadata": {},
   "source": [
    "#### This is the fourth Bell state   \n",
    "  \n",
    "\\$\n",
    "\\frac{1}{\\sqrt2}(|01⟩-|10⟩)\n",
    "\\$"
   ]
  },
  {
   "cell_type": "code",
   "execution_count": 21,
   "metadata": {},
   "outputs": [
    {
     "name": "stdout",
     "output_type": "stream",
     "text": [
      "{'10': 477, '01': 523}\n"
     ]
    },
    {
     "data": {
      "image/png": "[encoded data removed]",
      "text/plain": [
       "<Figure size 504x360 with 1 Axes>"
      ]
     },
     "execution_count": 21,
     "metadata": {},
     "output_type": "execute_result"
    }
   ],
   "source": [
    "job = execute(qc, qasm_sim, shots=1000)\n",
    "results = job.result().get_counts()\n",
    "print(results)\n",
    "\n",
    "plot_histogram(results)"
   ]
  },
  {
   "cell_type": "markdown",
   "metadata": {},
   "source": [
    "### We will now create the circuit for GHZ state of three entangled qubits   \n",
    "  \n",
    "\\$\n",
    "\\frac{1}{\\sqrt2}(|000⟩-|111⟩)\n",
    "\\$"
   ]
  },
  {
   "cell_type": "code",
   "execution_count": 24,
   "metadata": {},
   "outputs": [
    {
     "name": "stdout",
     "output_type": "stream",
     "text": [
      "{'000': 95, '111': 105}\n"
     ]
    },
    {
     "data": {
      "image/png": "[encoded data removed]",
      "text/plain": [
       "<Figure size 504x360 with 1 Axes>"
      ]
     },
     "execution_count": 24,
     "metadata": {},
     "output_type": "execute_result"
    }
   ],
   "source": [
    "q = QuantumRegister(3, 'q')\n",
    "c = ClassicalRegister(3, 'c')\n",
    "qc = QuantumCircuit(q, c)\n",
    "\n",
    "qc.h(q[0])\n",
    "qc.h(q[1])\n",
    "qc.x(q[2])\n",
    "qc.cx(q[1], q[2])\n",
    "qc.cx(q[0], q[2])\n",
    "\n",
    "qc.barrier()\n",
    "\n",
    "qc.h(q[0])\n",
    "qc.h(q[1])\n",
    "qc.h(q[2])\n",
    "\n",
    "qc.barrier()\n",
    "\n",
    "qc.measure(q[0], c[0])\n",
    "qc.measure(q[1], c[1])\n",
    "qc.measure(q[2], c[2])\n",
    "\n",
    "#qc.draw(output = 'mpl')\n",
    "\n",
    "job = execute(qc, qasm_sim, shots=200)\n",
    "results = job.result().get_counts()\n",
    "\n",
    "print(results)\n",
    "plot_histogram(results)"
   ]
  },
  {
   "cell_type": "markdown",
   "metadata": {},
   "source": [
    "### Let's test Toffoli gate with bit addition example\n",
    "\n",
    "We will use three qubits and demonstrate bit addition operation.  \n",
    "For that we need Toffoli gate, which will flip the qubit 2 in case qubits 0 and 1 both have value 1."
   ]
  },
  {
   "cell_type": "code",
   "execution_count": 25,
   "metadata": {},
   "outputs": [
    {
     "data": {
      "image/png": "[encoded data removed]",
      "text/plain": [
       "<Figure size 481.6x379.26 with 1 Axes>"
      ]
     },
     "execution_count": 25,
     "metadata": {},
     "output_type": "execute_result"
    }
   ],
   "source": [
    "q = QuantumRegister(3, 'q')\n",
    "c = ClassicalRegister(3, 'c')\n",
    "qc=QuantumCircuit(q, c)\n",
    "\n",
    "qc.h(q[0])\n",
    "qc.h(q[1])\n",
    "qc.ccx(q[0], q[1], q[2])\n",
    "qc.cx(q[0], q[1])\n",
    "\n",
    "qc.measure(q[1],c[1])\n",
    "qc.measure(q[2],c[2])\n",
    "\n",
    "qc.draw(output='mpl')"
   ]
  },
  {
   "cell_type": "code",
   "execution_count": 26,
   "metadata": {},
   "outputs": [
    {
     "name": "stdout",
     "output_type": "stream",
     "text": [
      "{'010': 475, '100': 255, '000': 270}\n"
     ]
    },
    {
     "data": {
      "image/png": "[encoded data removed]",
      "text/plain": [
       "<Figure size 504x360 with 1 Axes>"
      ]
     },
     "execution_count": 26,
     "metadata": {},
     "output_type": "execute_result"
    }
   ],
   "source": [
    "job = execute(qc, qasm_sim, shots=1000)\n",
    "results = job.result().get_counts()\n",
    "print(results)\n",
    "\n",
    "plot_histogram(results)"
   ]
  },
  {
   "cell_type": "markdown",
   "metadata": {},
   "source": [
    "Our circuit calculates all results simultaneously :  \n",
    "    - 000 is the result of 0 + 0 , the probability of the result is 0.25  \n",
    "    - 010 is the result of 0 + 1 and 1 + 0, the probability of this result is 0.5  \n",
    "    - 100 is the result of 1 + 1 , the probability of the result if 0.25  "
   ]
  },
  {
   "cell_type": "markdown",
   "metadata": {},
   "source": [
    "# Part 2\n",
    "\n",
    "### Deutsch's Problem  \n",
    "f(x) constant or balanced ?  \n",
    "Constant -> f(0) = f(1) = 0 or f(0) = f(1) = 1  \n",
    "Balanced -> f(0) = 0 and f(1) = 1, or f(1) = 0 and f(0) = 1  \n",
    "\n",
    "### Deutsch's Algorithm\n",
    "1: Initialize qubit x in state |0〉  \n",
    "2: Initialize qubit y in state |1〉Use X gate  \n",
    "3: Apply the Hadamard gate H to both qubits  \n",
    "4: Apply the circuit Uf  \n",
    "5: Apply the Hadamard gate H on qubit x  \n",
    "6: Measure qubit x.   \n",
    "\n",
    "If x is |0〉, the function is constant. If it is |1〉, the function is balanced"
   ]
  },
  {
   "cell_type": "markdown",
   "metadata": {},
   "source": [
    "### Circuit with constant function \n",
    "Constant function giving zero. Circuit is implemented with identity function"
   ]
  },
  {
   "cell_type": "code",
   "execution_count": 27,
   "metadata": {},
   "outputs": [
    {
     "data": {
      "image/png": "[encoded data removed]",
      "text/plain": [
       "<Figure size 602x198.66 with 1 Axes>"
      ]
     },
     "execution_count": 27,
     "metadata": {},
     "output_type": "execute_result"
    }
   ],
   "source": [
    "q=QuantumRegister(2)\n",
    "qc=QuantumCircuit(q)\n",
    "c=ClassicalRegister(1)\n",
    "qc.add_register(c)\n",
    "\n",
    "qc.x(q[1])\n",
    "qc.h(q[0])\n",
    "qc.h(q[1])\n",
    "    \n",
    "qc.barrier()\n",
    "qc.iden(q[1])\n",
    "qc.barrier()\n",
    "    \n",
    "qc.h(q[0])\n",
    "qc.measure(q[0],c[0])\n",
    "qc.draw(output = 'mpl')"
   ]
  },
  {
   "cell_type": "code",
   "execution_count": 28,
   "metadata": {},
   "outputs": [
    {
     "name": "stdout",
     "output_type": "stream",
     "text": [
      "{'0': 50}\n"
     ]
    }
   ],
   "source": [
    "job = execute(qc, qasm_sim, shots=50)\n",
    "results = job.result().get_counts()\n",
    "print(results)"
   ]
  },
  {
   "cell_type": "markdown",
   "metadata": {},
   "source": [
    "### Circuit with constant function \n",
    "Constant function giving one. Circuit is implemented with bit flip gate on the qubit 1"
   ]
  },
  {
   "cell_type": "code",
   "execution_count": 29,
   "metadata": {},
   "outputs": [
    {
     "data": {
      "image/png": "[encoded data removed]",
      "text/plain": [
       "<Figure size 602x198.66 with 1 Axes>"
      ]
     },
     "execution_count": 29,
     "metadata": {},
     "output_type": "execute_result"
    }
   ],
   "source": [
    "q=QuantumRegister(2)\n",
    "qc=QuantumCircuit(q)\n",
    "c=ClassicalRegister(1)\n",
    "qc.add_register(c)\n",
    "\n",
    "qc.x(q[1])\n",
    "qc.h(q[0])\n",
    "qc.h(q[1])\n",
    "    \n",
    "qc.barrier()\n",
    "qc.x(q[1])\n",
    "qc.barrier()\n",
    "    \n",
    "qc.h(q[0])\n",
    "qc.measure(q[0],c[0])\n",
    "qc.draw(output = 'mpl')"
   ]
  },
  {
   "cell_type": "code",
   "execution_count": 30,
   "metadata": {},
   "outputs": [
    {
     "name": "stdout",
     "output_type": "stream",
     "text": [
      "{'0': 50}\n"
     ]
    }
   ],
   "source": [
    "job = execute(qc, qasm_sim, shots=50)\n",
    "results = job.result().get_counts()\n",
    "print(results)"
   ]
  },
  {
   "cell_type": "markdown",
   "metadata": {},
   "source": [
    "### Circuit with balanced function \n",
    "Variable output, outputs the input. Circuit is implemented with CNOT gate from the qubit 0 to qubit 1"
   ]
  },
  {
   "cell_type": "code",
   "execution_count": 31,
   "metadata": {},
   "outputs": [
    {
     "data": {
      "image/png": "[encoded data removed]",
      "text/plain": [
       "<Figure size 602x198.66 with 1 Axes>"
      ]
     },
     "execution_count": 31,
     "metadata": {},
     "output_type": "execute_result"
    }
   ],
   "source": [
    "q=QuantumRegister(2)\n",
    "qc=QuantumCircuit(q)\n",
    "c=ClassicalRegister(1)\n",
    "qc.add_register(c)\n",
    "\n",
    "qc.x(q[1])\n",
    "qc.h(q[0])\n",
    "qc.h(q[1])\n",
    "\n",
    "qc.barrier()\n",
    "qc.cx(q[0], q[1])\n",
    "qc.barrier()\n",
    "\n",
    "qc.h(q[0])\n",
    "qc.measure(q[0],c[0])\n",
    "qc.draw(output='mpl')"
   ]
  },
  {
   "cell_type": "code",
   "execution_count": 32,
   "metadata": {},
   "outputs": [
    {
     "name": "stdout",
     "output_type": "stream",
     "text": [
      "{'1': 50}\n"
     ]
    }
   ],
   "source": [
    "job = execute(qc, qasm_sim, shots=50)\n",
    "results = job.result().get_counts()\n",
    "print(results)"
   ]
  },
  {
   "cell_type": "markdown",
   "metadata": {},
   "source": [
    "### Circuit with balanced function \n",
    "Variable output, outputs the inverse of the input.  \n",
    "Circuit is implemented with CNOT gate from the qubit 0 to qubit 1, followed with the bit flip of the qubit 1"
   ]
  },
  {
   "cell_type": "code",
   "execution_count": 33,
   "metadata": {},
   "outputs": [
    {
     "data": {
      "image/png": "[encoded data removed]",
      "text/plain": [
       "<Figure size 662.2x198.66 with 1 Axes>"
      ]
     },
     "execution_count": 33,
     "metadata": {},
     "output_type": "execute_result"
    }
   ],
   "source": [
    "q=QuantumRegister(2)\n",
    "qc=QuantumCircuit(q)\n",
    "c=ClassicalRegister(1)\n",
    "qc.add_register(c)\n",
    "\n",
    "qc.x(q[1])\n",
    "qc.h(q[0])\n",
    "qc.h(q[1])\n",
    "      \n",
    "qc.barrier()\n",
    "qc.cx(q[0], q[1]), qc.x(q[1])\n",
    "qc.barrier()\n",
    "\n",
    "qc.h(q[0])\n",
    "qc.measure(q[0],c[0])\n",
    "qc.draw(output = 'mpl')"
   ]
  },
  {
   "cell_type": "code",
   "execution_count": 34,
   "metadata": {},
   "outputs": [
    {
     "name": "stdout",
     "output_type": "stream",
     "text": [
      "{'1': 50}\n"
     ]
    }
   ],
   "source": [
    "job = execute(qc, qasm_sim, shots=50)\n",
    "results = job.result().get_counts()\n",
    "print(results)"
   ]
  },
  {
   "cell_type": "markdown",
   "metadata": {},
   "source": [
    "### Put all these functions together"
   ]
  },
  {
   "cell_type": "code",
   "execution_count": 35,
   "metadata": {},
   "outputs": [],
   "source": [
    "def blackbox(oracleType=None):\n",
    "\n",
    "    if oracleType == None:\n",
    "        oracleType = np.random.randint(4)\n",
    "\n",
    "    oracles = {0: 'qc.iden(q[1])', 1: 'qc.x(q[1])', 2: 'qc.cx(q[0], q[1])', 3: 'qc.cx(q[0], q[1]), qc.x(q[1])'}\n",
    "    return oracles[oracleType]"
   ]
  },
  {
   "cell_type": "code",
   "execution_count": 36,
   "metadata": {},
   "outputs": [
    {
     "data": {
      "image/png": "[encoded data removed]",
      "text/plain": [
       "<Figure size 602x198.66 with 1 Axes>"
      ]
     },
     "execution_count": 36,
     "metadata": {},
     "output_type": "execute_result"
    }
   ],
   "source": [
    "q=QuantumRegister(2, 'q')\n",
    "qc=QuantumCircuit(q)\n",
    "c=ClassicalRegister(1, 'c')\n",
    "qc.add_register(c)\n",
    "\n",
    "qc.x(q[1])\n",
    "qc.h(q[0])\n",
    "qc.h(q[1])\n",
    "      \n",
    "qc.barrier()\n",
    "\n",
    "exec(blackbox())\n",
    "\n",
    "qc.barrier()\n",
    "\n",
    "qc.h(q[0])\n",
    "qc.measure(q[0],c[0])\n",
    "qc.draw(output = 'mpl')"
   ]
  },
  {
   "cell_type": "code",
   "execution_count": 37,
   "metadata": {},
   "outputs": [
    {
     "name": "stdout",
     "output_type": "stream",
     "text": [
      "{'0': 50}\n"
     ]
    }
   ],
   "source": [
    "job = execute(qc, qasm_sim, shots=50)\n",
    "results = job.result().get_counts()\n",
    "print(results)"
   ]
  },
  {
   "cell_type": "code",
   "execution_count": 38,
   "metadata": {},
   "outputs": [
    {
     "data": {
      "text/html": [
       "<pre style=\"word-wrap: normal;white-space: pre;line-height: 15px;\">                                                                                                                                                                                                 ┌────────────┐                            \n",
       " q_0: |0>─────────────────────────────────────────────────────────────────────────────────────────────────────────────────────────────────────────────────────────────■───■──X───■────■───■───■──┤ Rz(1.5708) ├─────────────■──────────────\n",
       "                                                                                                                                                                      │   │  │ ┌─┴─┐┌─┴─┐ │ ┌─┴─┐└─────┬──────┘             │              \n",
       " q_1: |0>─────────────────────────────────────────────────────────────────────────────────────────────────────────────────────────────────────────────────────────────■───X──X─┤ X ├┤ Y ├─■─┤ H ├──────■────────────────────┼──────────────\n",
       "                                                                                                                                                                    ┌─┴─┐ │    └───┘└───┘   └───┘              ┌────────────┴─────────────┐\n",
       " q_2: |0>───────────────────────────────────────────────────────────────────────────────────────────────────────────────────────────────────────────────────────────┤ X ├─X────────────────────────────────────┤ U3(1.5708,1.5708,1.5708) ├\n",
       "                                                                                                                                                      ┌────────────┐└───┘                                      └──────────────────────────┘\n",
       " q_3: |0>─────────────────────────────────────────────────────────────────────────────────────────────────────────────────────────────────────────────┤ U1(1.5708) ├───────────────────────────────────────────────────────────────────────\n",
       "                                                                                                                                 ┌───────────────────┐└────────────┘                                                                       \n",
       " q_4: |0>────────────────────────────────────────────────────────────────────────────────────────────────────────────────────────┤ U2(1.5708,1.5708) ├─────────────────────────────────────────────────────────────────────────────────────\n",
       "                                                                                                     ┌──────────────────────────┐└───────────────────┘                                                                                     \n",
       " q_5: |0>────────────────────────────────────────────────────────────────────────────────────────────┤ U3(1.5708,1.5708,1.5708) ├──────────────────────────────────────────────────────────────────────────────────────────────────────────\n",
       "                                                                                       ┌────────────┐└──────────────────────────┘                                                                                                          \n",
       " q_6: |0>──────────────────────────────────────────────────────────────────────────────┤ Rz(1.5708) ├──────────────────────────────────────────────────────────────────────────────────────────────────────────────────────────────────────\n",
       "                                                                         ┌────────────┐└────────────┘                                                                                                                                      \n",
       " q_7: |0>────────────────────────────────────────────────────────────────┤ Ry(1.5708) ├────────────────────────────────────────────────────────────────────────────────────────────────────────────────────────────────────────────────────\n",
       "                                                           ┌────────────┐└────────────┘                                                                                                                                                    \n",
       " q_8: |0>──────────────────────────────────────────────────┤ Rx(1.5708) ├──────────────────────────────────────────────────────────────────────────────────────────────────────────────────────────────────────────────────────────────────\n",
       "                                                    ┌─────┐└────────────┘                                                                                                                                                                  \n",
       " q_9: |0>───────────────────────────────────────────┤ Tdg ├────────────────────────────────────────────────────────────────────────────────────────────────────────────────────────────────────────────────────────────────────────────────\n",
       "                                               ┌───┐└─────┘                                                                                                                                                                                \n",
       "q_10: |0>──────────────────────────────────────┤ T ├───────────────────────────────────────────────────────────────────────────────────────────────────────────────────────────────────────────────────────────────────────────────────────\n",
       "                                        ┌─────┐└───┘                                                                                                                                                                                       \n",
       "q_11: |0>───────────────────────────────┤ Sdg ├────────────────────────────────────────────────────────────────────────────────────────────────────────────────────────────────────────────────────────────────────────────────────────────\n",
       "                                   ┌───┐└─────┘                                                                                                                                                                                            \n",
       "q_12: |0>──────────────────────────┤ S ├───────────────────────────────────────────────────────────────────────────────────────────────────────────────────────────────────────────────────────────────────────────────────────────────────\n",
       "                             ┌────┐└───┘                                                                                                                                                                                                   \n",
       "q_13: |0>────────────────────┤ Id ├────────────────────────────────────────────────────────────────────────────────────────────────────────────────────────────────────────────────────────────────────────────────────────────────────────\n",
       "                        ┌───┐└────┘                                                                                                                                                                                                        \n",
       "q_14: |0>───────────────┤ H ├──────────────────────────────────────────────────────────────────────────────────────────────────────────────────────────────────────────────────────────────────────────────────────────────────────────────\n",
       "                   ┌───┐└───┘                                                                                                                                                                                                              \n",
       "q_15: |0>──────────┤ Y ├───────────────────────────────────────────────────────────────────────────────────────────────────────────────────────────────────────────────────────────────────────────────────────────────────────────────────\n",
       "              ┌───┐└───┘                                                                                                                                                                                                                   \n",
       "q_16: |0>─────┤ Z ├────────────────────────────────────────────────────────────────────────────────────────────────────────────────────────────────────────────────────────────────────────────────────────────────────────────────────────\n",
       "         ┌───┐└───┘                                                                                                                                                                                                                        \n",
       "q_17: |0>┤ X ├─────────────────────────────────────────────────────────────────────────────────────────────────────────────────────────────────────────────────────────────────────────────────────────────────────────────────────────────\n",
       "         └───┘                                                                                                                                                                                                                             </pre>"
      ],
      "text/plain": [
       "<qiskit.tools.visualization._text.TextDrawing at 0x11f56b0f0>"
      ]
     },
     "execution_count": 38,
     "metadata": {},
     "output_type": "execute_result"
    }
   ],
   "source": [
    "from math import pi\n",
    "\n",
    "q = QuantumRegister(18,'q')\n",
    "qc = QuantumCircuit(q)\n",
    "\n",
    "qc.x(q[17])\n",
    "qc.z(q[16])\n",
    "qc.y(q[15])\n",
    "qc.h(q[14])\n",
    "qc.iden(q[13])\n",
    "qc.s(q[12])\n",
    "qc.sdg(q[11])\n",
    "qc.t(q[10])\n",
    "qc.tdg(q[9])\n",
    "\n",
    "qc.rx(pi/2,q[8])\n",
    "qc.ry(pi/2,q[7])\n",
    "qc.rz(pi/2,q[6])\n",
    "\n",
    "qc.u3(pi/2,pi/2,pi/2,q[5])\n",
    "qc.u2(pi/2,pi/2,q[4])\n",
    "qc.u1(pi/2,q[3])\n",
    "\n",
    "qc.ccx(q[0], q[1], q[2])\n",
    "qc.cswap(q[0], q[1], q[2])\n",
    "\n",
    "qc.swap(q[0], q[1])\n",
    "qc.cx(q[0],q[1])\n",
    "qc.cy(q[0],q[1])\n",
    "qc.cz(q[0],q[1])\n",
    "qc.ch(q[0],q[1])\n",
    "qc.crz(pi/2,q[1],q[0])\n",
    "qc.cu3(pi/2, pi/2, pi/2, q[0], q[2])\n",
    "\n",
    "qc.draw(line_length=240)"
   ]
  },
  {
   "cell_type": "code",
   "execution_count": null,
   "metadata": {},
   "outputs": [],
   "source": []
  }
 ],
 "metadata": {
  "kernelspec": {
   "display_name": "Python (Qiskitenv)",
   "language": "python",
   "name": "qiskitenv"
  },
  "language_info": {
   "codemirror_mode": {
    "name": "ipython",
    "version": 3
   },
   "file_extension": ".py",
   "mimetype": "text/x-python",
   "name": "python",
   "nbconvert_exporter": "python",
   "pygments_lexer": "ipython3",
   "version": "3.7.1"
  }
 },
 "nbformat": 4,
 "nbformat_minor": 2
}
